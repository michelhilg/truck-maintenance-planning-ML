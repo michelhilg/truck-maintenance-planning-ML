{
 "cells": [
  {
   "cell_type": "markdown",
   "metadata": {},
   "source": [
    "# Step 4 - Dimensionality Reduction\n",
    "\n",
    "Use PCA (Principal Component Analysis) and Factor Analysis as techniques to reduce the number of features while retaining most of the variance."
   ]
  },
  {
   "cell_type": "code",
   "execution_count": 1,
   "metadata": {},
   "outputs": [],
   "source": [
    "import pandas as pd\n",
    "from sklearn.decomposition import PCA"
   ]
  },
  {
   "cell_type": "markdown",
   "metadata": {},
   "source": [
    "## 4.0 - Load the Data"
   ]
  },
  {
   "cell_type": "code",
   "execution_count": 15,
   "metadata": {},
   "outputs": [],
   "source": [
    "previous_years_SMOTEd = pd.read_csv('../data/07_previous_years_SMOTEd.csv')\n",
    "present_scaled = pd.read_csv('../data/06_present_year_scaled.csv')"
   ]
  },
  {
   "cell_type": "markdown",
   "metadata": {},
   "source": [
    "## 4.1 - Apply the PCA\n",
    "\n",
    "PCA (Principal Component Analysis) is used to reduce the dimensionality of the dataset while preserving as much variance as possible. PCA should be applied to the training data, and the same transformation should be applied to the test data."
   ]
  },
  {
   "cell_type": "markdown",
   "metadata": {},
   "source": [
    "**Previous Years - Training Data**"
   ]
  },
  {
   "cell_type": "code",
   "execution_count": 27,
   "metadata": {},
   "outputs": [
    {
     "data": {
      "text/html": [
       "<div>\n",
       "<style scoped>\n",
       "    .dataframe tbody tr th:only-of-type {\n",
       "        vertical-align: middle;\n",
       "    }\n",
       "\n",
       "    .dataframe tbody tr th {\n",
       "        vertical-align: top;\n",
       "    }\n",
       "\n",
       "    .dataframe thead th {\n",
       "        text-align: right;\n",
       "    }\n",
       "</style>\n",
       "<table border=\"1\" class=\"dataframe\">\n",
       "  <thead>\n",
       "    <tr style=\"text-align: right;\">\n",
       "      <th></th>\n",
       "      <th>PC1</th>\n",
       "      <th>PC2</th>\n",
       "      <th>class</th>\n",
       "    </tr>\n",
       "  </thead>\n",
       "  <tbody>\n",
       "    <tr>\n",
       "      <th>0</th>\n",
       "      <td>-11.063584</td>\n",
       "      <td>-1.567663</td>\n",
       "      <td>0</td>\n",
       "    </tr>\n",
       "    <tr>\n",
       "      <th>1</th>\n",
       "      <td>-13.752753</td>\n",
       "      <td>-0.614154</td>\n",
       "      <td>0</td>\n",
       "    </tr>\n",
       "    <tr>\n",
       "      <th>2</th>\n",
       "      <td>-14.278052</td>\n",
       "      <td>-0.260361</td>\n",
       "      <td>0</td>\n",
       "    </tr>\n",
       "    <tr>\n",
       "      <th>3</th>\n",
       "      <td>-16.118603</td>\n",
       "      <td>0.194279</td>\n",
       "      <td>0</td>\n",
       "    </tr>\n",
       "    <tr>\n",
       "      <th>4</th>\n",
       "      <td>-12.965438</td>\n",
       "      <td>-0.643940</td>\n",
       "      <td>0</td>\n",
       "    </tr>\n",
       "    <tr>\n",
       "      <th>...</th>\n",
       "      <td>...</td>\n",
       "      <td>...</td>\n",
       "      <td>...</td>\n",
       "    </tr>\n",
       "    <tr>\n",
       "      <th>117995</th>\n",
       "      <td>29.461699</td>\n",
       "      <td>-15.638997</td>\n",
       "      <td>1</td>\n",
       "    </tr>\n",
       "    <tr>\n",
       "      <th>117996</th>\n",
       "      <td>47.899332</td>\n",
       "      <td>-20.215931</td>\n",
       "      <td>1</td>\n",
       "    </tr>\n",
       "    <tr>\n",
       "      <th>117997</th>\n",
       "      <td>19.338496</td>\n",
       "      <td>11.651469</td>\n",
       "      <td>1</td>\n",
       "    </tr>\n",
       "    <tr>\n",
       "      <th>117998</th>\n",
       "      <td>10.457556</td>\n",
       "      <td>9.882504</td>\n",
       "      <td>1</td>\n",
       "    </tr>\n",
       "    <tr>\n",
       "      <th>117999</th>\n",
       "      <td>-1.929953</td>\n",
       "      <td>-2.087891</td>\n",
       "      <td>1</td>\n",
       "    </tr>\n",
       "  </tbody>\n",
       "</table>\n",
       "<p>118000 rows × 3 columns</p>\n",
       "</div>"
      ],
      "text/plain": [
       "              PC1        PC2  class\n",
       "0      -11.063584  -1.567663      0\n",
       "1      -13.752753  -0.614154      0\n",
       "2      -14.278052  -0.260361      0\n",
       "3      -16.118603   0.194279      0\n",
       "4      -12.965438  -0.643940      0\n",
       "...           ...        ...    ...\n",
       "117995  29.461699 -15.638997      1\n",
       "117996  47.899332 -20.215931      1\n",
       "117997  19.338496  11.651469      1\n",
       "117998  10.457556   9.882504      1\n",
       "117999  -1.929953  -2.087891      1\n",
       "\n",
       "[118000 rows x 3 columns]"
      ]
     },
     "execution_count": 27,
     "metadata": {},
     "output_type": "execute_result"
    }
   ],
   "source": [
    "# Separate target and features for training data\n",
    "y_train_SMOTEd = previous_years_SMOTEd['class']\n",
    "X_train_SMOTEd = previous_years_SMOTEd.drop('class', axis=1)\n",
    "\n",
    "# Initialize PCA\n",
    "pca = PCA(n_components=2)\n",
    "\n",
    "# Apply PCA\n",
    "X_train_pca = pca.fit_transform(X_train_SMOTEd)\n",
    "\n",
    "# PCA results back to a DataFrame\n",
    "previous_years_PCA = pd.DataFrame(X_train_pca, columns=['PC1', 'PC2'])\n",
    "previous_years_PCA['class'] = y_train_SMOTEd.values\n",
    "previous_years_PCA"
   ]
  },
  {
   "cell_type": "markdown",
   "metadata": {},
   "source": [
    "**Present Year - Test Data**"
   ]
  },
  {
   "cell_type": "code",
   "execution_count": 23,
   "metadata": {},
   "outputs": [
    {
     "data": {
      "text/html": [
       "<div>\n",
       "<style scoped>\n",
       "    .dataframe tbody tr th:only-of-type {\n",
       "        vertical-align: middle;\n",
       "    }\n",
       "\n",
       "    .dataframe tbody tr th {\n",
       "        vertical-align: top;\n",
       "    }\n",
       "\n",
       "    .dataframe thead th {\n",
       "        text-align: right;\n",
       "    }\n",
       "</style>\n",
       "<table border=\"1\" class=\"dataframe\">\n",
       "  <thead>\n",
       "    <tr style=\"text-align: right;\">\n",
       "      <th></th>\n",
       "      <th>PC1</th>\n",
       "      <th>PC2</th>\n",
       "      <th>class</th>\n",
       "    </tr>\n",
       "  </thead>\n",
       "  <tbody>\n",
       "    <tr>\n",
       "      <th>0</th>\n",
       "      <td>-15.901969</td>\n",
       "      <td>0.166094</td>\n",
       "      <td>0</td>\n",
       "    </tr>\n",
       "    <tr>\n",
       "      <th>1</th>\n",
       "      <td>-15.957528</td>\n",
       "      <td>0.160321</td>\n",
       "      <td>0</td>\n",
       "    </tr>\n",
       "    <tr>\n",
       "      <th>2</th>\n",
       "      <td>-12.694033</td>\n",
       "      <td>0.661840</td>\n",
       "      <td>0</td>\n",
       "    </tr>\n",
       "    <tr>\n",
       "      <th>3</th>\n",
       "      <td>-13.221928</td>\n",
       "      <td>-0.548579</td>\n",
       "      <td>0</td>\n",
       "    </tr>\n",
       "    <tr>\n",
       "      <th>4</th>\n",
       "      <td>-15.926757</td>\n",
       "      <td>0.161080</td>\n",
       "      <td>0</td>\n",
       "    </tr>\n",
       "    <tr>\n",
       "      <th>...</th>\n",
       "      <td>...</td>\n",
       "      <td>...</td>\n",
       "      <td>...</td>\n",
       "    </tr>\n",
       "    <tr>\n",
       "      <th>15995</th>\n",
       "      <td>-12.062013</td>\n",
       "      <td>-0.949061</td>\n",
       "      <td>0</td>\n",
       "    </tr>\n",
       "    <tr>\n",
       "      <th>15996</th>\n",
       "      <td>-15.980245</td>\n",
       "      <td>0.170760</td>\n",
       "      <td>0</td>\n",
       "    </tr>\n",
       "    <tr>\n",
       "      <th>15997</th>\n",
       "      <td>-11.942178</td>\n",
       "      <td>-1.404452</td>\n",
       "      <td>0</td>\n",
       "    </tr>\n",
       "    <tr>\n",
       "      <th>15998</th>\n",
       "      <td>-15.933016</td>\n",
       "      <td>0.162912</td>\n",
       "      <td>0</td>\n",
       "    </tr>\n",
       "    <tr>\n",
       "      <th>15999</th>\n",
       "      <td>-15.985818</td>\n",
       "      <td>0.163577</td>\n",
       "      <td>0</td>\n",
       "    </tr>\n",
       "  </tbody>\n",
       "</table>\n",
       "<p>16000 rows × 3 columns</p>\n",
       "</div>"
      ],
      "text/plain": [
       "             PC1       PC2  class\n",
       "0     -15.901969  0.166094      0\n",
       "1     -15.957528  0.160321      0\n",
       "2     -12.694033  0.661840      0\n",
       "3     -13.221928 -0.548579      0\n",
       "4     -15.926757  0.161080      0\n",
       "...          ...       ...    ...\n",
       "15995 -12.062013 -0.949061      0\n",
       "15996 -15.980245  0.170760      0\n",
       "15997 -11.942178 -1.404452      0\n",
       "15998 -15.933016  0.162912      0\n",
       "15999 -15.985818  0.163577      0\n",
       "\n",
       "[16000 rows x 3 columns]"
      ]
     },
     "execution_count": 23,
     "metadata": {},
     "output_type": "execute_result"
    }
   ],
   "source": [
    "# Separate target and features for test data\n",
    "y_test_scaled = present_scaled['class']\n",
    "X_test_scaled = present_scaled.drop('class', axis=1)\n",
    "\n",
    "# Transform test data using the same PCA\n",
    "X_test_pca = pca.transform(X_test_scaled)\n",
    "\n",
    "# Convert PCA results to DataFrame if needed\n",
    "present_year_PCA = pd.DataFrame(X_test_pca, columns=['PC1', 'PC2'])\n",
    "present_year_PCA['class'] = y_test_scaled.values\n",
    "present_year_PCA"
   ]
  },
  {
   "cell_type": "markdown",
   "metadata": {},
   "source": [
    "## 4.2 - PCA Data Saving\n"
   ]
  },
  {
   "cell_type": "code",
   "execution_count": 25,
   "metadata": {},
   "outputs": [],
   "source": [
    "previous_years_PCA.to_csv('../data/08_previous_years_PCA.csv', index=False)\n",
    "present_year_PCA.to_csv('../data/09_previous_years_PCA.csv', index=False)"
   ]
  },
  {
   "cell_type": "code",
   "execution_count": null,
   "metadata": {},
   "outputs": [],
   "source": []
  }
 ],
 "metadata": {
  "kernelspec": {
   "display_name": "bixtest",
   "language": "python",
   "name": "python3"
  },
  "language_info": {
   "codemirror_mode": {
    "name": "ipython",
    "version": 3
   },
   "file_extension": ".py",
   "mimetype": "text/x-python",
   "name": "python",
   "nbconvert_exporter": "python",
   "pygments_lexer": "ipython3",
   "version": "3.9.19"
  }
 },
 "nbformat": 4,
 "nbformat_minor": 2
}
