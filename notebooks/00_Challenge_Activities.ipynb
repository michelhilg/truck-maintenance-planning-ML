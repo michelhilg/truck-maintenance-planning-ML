{
 "cells": [
  {
   "cell_type": "markdown",
   "metadata": {},
   "source": [
    "# Challange Activities\n",
    "\n",
    "This notebook in a markdown formart describe all the steps and answers the proposed challange activities.\n"
   ]
  },
  {
   "cell_type": "markdown",
   "metadata": {},
   "source": [
    "### 1 - What steps would you take to solve this problem?\n",
    "\n",
    "Each of the steps presented below will be applied and detailed in a correspondend *Jupyter Notebook*.\n",
    "\n",
    "**Step 1 - Data Understanding and Cleaning:**\n",
    "- Load the datasets and understand their structure and contents.\n",
    "    - This part of Step 1 addresses the multiple-choice questions of the challenge.\n",
    "- Handle missing values denoted by na.\n",
    "- Generate new cleaned data files for easy access and use.\n",
    "\n",
    "**Step 2 - Exploratory Data Analysis (EDA):**\n",
    "\n",
    "- Perform descriptive statistics to understand the distribution of data.\n",
    "- Visualize data to identify patterns, correlations, and anomalies.\n",
    "\n",
    "**Step 3 - Feature Engineering:**\n",
    "\n",
    "- Normalize or standardize numerical features if necessary.\n",
    "\n",
    "**Step 4 - Dimensionality Reduction:**\n",
    "\n",
    "- Use PCA (Principal Component Analysis) and Factor Analysis as techniques to reduce the number of features while retaining most of the variance.\n",
    "- Use feature selection methods to identify the most important features.\n",
    "    - Recursive Feature Elimination (RFE)\n",
    "    - Feature Importance from Tree-based Models (e.g., Random Forest)\n",
    "\n",
    "**Step 5 - Model Training:**\n",
    "\n",
    "- Split the data into training and test sets, ensuring the test set reflects the present year's data.\n",
    "- Train multiple predictive models, such as:\n",
    "    - KNN Classifier\n",
    "    - Random Forest\n",
    "    - Neural Networks\n",
    "- Use techniques like cross-validation to tune hyperparameters and avoid overfitting.\n",
    "\n",
    "**Step 6 - Model Evaluation:**\n",
    "\n",
    "- Evaluate the models using relevant metrics.\n",
    "- Select the best-performing model based on evaluation results.\n",
    "\n",
    "**Step 7 - Interpretability and Insights:**\n",
    "\n",
    "- Use techniques like SHAP (SHapley Additive exPlanations) or LIME (Local Interpretable Model-agnostic Explanations) to interpret the model's predictions.\n",
    "- Identify the main factors contributing to air system failures.\n",
    "\n",
    "**Step 8 - Business Metrics and Recommendations:**\n",
    "\n",
    "- Translate technical metrics to business metrics to demonstrate cost savings.\n",
    "- Provide actionable recommendations based on model insights.\n",
    "\n",
    "**Step 9 - Presentation:**\n",
    "\n",
    "- Prepare a comprehensive report and presentation for the executive board, highlighting the potential cost savings and the main factors leading to air system failures."
   ]
  },
  {
   "cell_type": "markdown",
   "metadata": {},
   "source": [
    "### 2 - Which technical data science metric would you use to solve this challenge?\n",
    "\n",
    "- **Accuracy:** To measure the proportion of correctly predicted maintenance needs.\n",
    "- **Precision and Recall:** To balance the trade-off between identifying true positives and avoiding false negatives.\n",
    "- **F1 Score:** To provide a single metric that balances precision and recall.\n",
    "- **ROC-AUC:** To evaluate the model's ability to distinguish between positive and negative cases."
   ]
  },
  {
   "cell_type": "markdown",
   "metadata": {},
   "source": [
    "### 3 - Which business metric would you use to solve the challenge?\n",
    "\n",
    "- **Cost Savings:** The primary business metric will be the reduction in maintenance costs for the air system."
   ]
  },
  {
   "cell_type": "markdown",
   "metadata": {},
   "source": [
    "### 4 - How do technical metrics relate to the business metrics?\n",
    "\n",
    "- Reducing false negatives (trucks with defects not identified) translates directly to cost savings by avoiding expensive corrective maintenance.\n",
    "- Improving precision reduces unnecessary preventive maintenance costs, ensuring resources are allocated efficiently."
   ]
  },
  {
   "cell_type": "markdown",
   "metadata": {},
   "source": [
    "### 5 - What types of analyzes would you like to perform on the customer database?\n",
    "\n",
    "- If we had access to the specific data and time of the data collected:\n",
    "    - Trend analysis of maintenance costs and occurences.\n",
    "    - Failure rate analysis over time.\n",
    "- Correlation analysis between features and air system failures.\n",
    "- Cost impact analysis of false negatives and false positives."
   ]
  },
  {
   "cell_type": "markdown",
   "metadata": {},
   "source": [
    "### 6 - What techniques would you use to reduce the dimensionality of the problem? \n",
    "\n",
    "- Principal Component Analysis (PCA)\n",
    "- Factor Analysis"
   ]
  },
  {
   "cell_type": "markdown",
   "metadata": {},
   "source": [
    "### 7 - What techniques would you use to select variables for your predictive model?\n",
    "\n",
    "- Recursive Feature Elimination (RFE)\n",
    "- Lasso Regression\n",
    "- Feature Importance from Tree-based Models (e.g., Random Forest)"
   ]
  },
  {
   "cell_type": "markdown",
   "metadata": {},
   "source": [
    "### 8 - What predictive models would you use or test for this problem? \n",
    "\n",
    "- **Logistic Regression:** For baseline binary classification.\n",
    "- **Random Forest:** For capturing non-linear relationships and feature importance.\n",
    "- **Gradient Boosting Machines (GBM):** For high-performance prediction.\n",
    "- **Neural Networks:** For capturing complex patterns in the data."
   ]
  },
  {
   "cell_type": "markdown",
   "metadata": {},
   "source": [
    "### 9 - How would you rate which of the trained models is the best?\n",
    "\n",
    "- Use of technical metrics:\n",
    "    - **Confusion Matrix:** To visualize true positives, false positives, true negatives, and false negatives.\n",
    "    - **ROC-AUC Score:** To evaluate the model's discriminatory ability.\n",
    "    - **Precision-Recall Curve:** To understand the trade-offs between precision and recall.\n",
    "- Use of business metrics:\n",
    "    - **Cost Analysis:** To quantify the cost savings achieved by the model in reducing maintenance expenses."
   ]
  },
  {
   "cell_type": "markdown",
   "metadata": {},
   "source": []
  }
 ],
 "metadata": {
  "language_info": {
   "name": "python"
  }
 },
 "nbformat": 4,
 "nbformat_minor": 2
}
