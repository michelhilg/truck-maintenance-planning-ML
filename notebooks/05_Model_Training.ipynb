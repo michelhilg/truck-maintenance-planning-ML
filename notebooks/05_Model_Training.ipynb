{
 "cells": [
  {
   "cell_type": "markdown",
   "metadata": {},
   "source": [
    "# Step 5 - Model Training\n",
    "\n"
   ]
  },
  {
   "cell_type": "markdown",
   "metadata": {},
   "source": [
    "Since we have the instruction fir the executive board that \n",
    "\n",
    "> The final results that will be presented need to be evaluated against air_system_present_year.csv. \n",
    "\n",
    "The *train* and *test* split is easily defined as:\n",
    "\n",
    "- **Training Data:** We will use the `air_system_previous_years.csv` to train the machine learning models.\n",
    "\n",
    "- **Testing Data:** We will evaluate the trained models using `air_system_present_year.csv`."
   ]
  },
  {
   "cell_type": "code",
   "execution_count": null,
   "metadata": {},
   "outputs": [],
   "source": []
  },
  {
   "cell_type": "code",
   "execution_count": null,
   "metadata": {},
   "outputs": [],
   "source": []
  }
 ],
 "metadata": {
  "language_info": {
   "name": "python"
  }
 },
 "nbformat": 4,
 "nbformat_minor": 2
}
