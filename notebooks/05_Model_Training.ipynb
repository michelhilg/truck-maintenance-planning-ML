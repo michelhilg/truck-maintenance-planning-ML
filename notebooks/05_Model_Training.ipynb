{
 "cells": [
  {
   "cell_type": "markdown",
   "metadata": {},
   "source": [
    "# Step 5 - Model Training\n",
    "\n",
    "This notebook has the following goals:\n",
    "\n",
    "- Split the data into training and test sets, ensuring the test set reflects the current year's data.\n",
    "\n",
    "- Train the models below using the original raw data:\n",
    "    - K-Nearest Neighbors (KNN) Classifier\n",
    "    - Random Forest\n",
    "\n",
    "- Retrain and reevaluate the models using modified data with PCA and SMOTE techniques.\n",
    "\n",
    "- Assess the impact of hyperparameter optimization (HPO) in both conditions.\n",
    "\n",
    "- Define the final model solution and address the two main project questions.\n"
   ]
  },
  {
   "cell_type": "code",
   "execution_count": 2,
   "metadata": {},
   "outputs": [],
   "source": [
    "import pandas as pd\n",
    "import matplotlib.pyplot as plt\n",
    "import seaborn as sns\n",
    "import numpy as np\n",
    "from scipy.stats import randint\n",
    "from sklearn.neighbors import KNeighborsClassifier \n",
    "from sklearn.model_selection import RandomizedSearchCV\n",
    "from sklearn.metrics import classification_report\n",
    "from sklearn.metrics import confusion_matrix\n",
    "from sklearn.ensemble import RandomForestClassifier"
   ]
  },
  {
   "cell_type": "markdown",
   "metadata": {},
   "source": [
    "## 5.0 - Load the Data"
   ]
  },
  {
   "cell_type": "code",
   "execution_count": 3,
   "metadata": {},
   "outputs": [],
   "source": [
    "previous_scaled = pd.read_csv('../data/05_previous_years_scaled.csv')\n",
    "present_scaled = pd.read_csv('../data/06_present_year_scaled.csv')"
   ]
  },
  {
   "cell_type": "markdown",
   "metadata": {},
   "source": [
    "## 5.1 - Model Centric Approach\n",
    "\n",
    "Apply the ML models on the original raw data without use any PCA or SMOTE technique at first."
   ]
  },
  {
   "cell_type": "markdown",
   "metadata": {},
   "source": [
    "### 5.1.1 - Train and Test Split"
   ]
  },
  {
   "cell_type": "markdown",
   "metadata": {},
   "source": [
    "Since we have the instruction fir the executive board that:\n",
    "\n",
    "> The final results that will be presented need to be evaluated against air_system_present_year.csv. \n",
    "\n",
    "The *train* and *test* split is easily defined as:\n",
    "\n",
    "- **Training Data:** We will use the `air_system_previous_years.csv` to train the machine learning models.\n",
    "\n",
    "- **Testing Data:** We will evaluate the trained models using `air_system_present_year.csv`."
   ]
  },
  {
   "cell_type": "code",
   "execution_count": 4,
   "metadata": {},
   "outputs": [
    {
     "name": "stdout",
     "output_type": "stream",
     "text": [
      "Training features shape: (60000, 170)\n",
      "Training target shape: (60000,)\n",
      "Test features shape: (16000, 170)\n",
      "Test target shape: (16000,)\n"
     ]
    }
   ],
   "source": [
    "# Separate target and features for training data\n",
    "y_train = previous_scaled['class']\n",
    "X_train = previous_scaled.drop('class', axis=1)\n",
    "\n",
    "# Separate target and features for test data\n",
    "y_test = present_scaled['class']\n",
    "X_test = present_scaled.drop('class', axis=1)\n",
    "\n",
    "print(\"Training features shape:\", X_train.shape)\n",
    "print(\"Training target shape:\", y_train.shape)\n",
    "print(\"Test features shape:\", X_test.shape)\n",
    "print(\"Test target shape:\", y_test.shape)"
   ]
  },
  {
   "cell_type": "markdown",
   "metadata": {},
   "source": [
    "### 5.1.2 - KNN Classifier"
   ]
  },
  {
   "cell_type": "code",
   "execution_count": 5,
   "metadata": {},
   "outputs": [
    {
     "name": "stdout",
     "output_type": "stream",
     "text": [
      "              precision    recall  f1-score   support\n",
      "\n",
      "           0       0.99      1.00      0.99     15625\n",
      "           1       0.86      0.52      0.65       375\n",
      "\n",
      "    accuracy                           0.99     16000\n",
      "   macro avg       0.93      0.76      0.82     16000\n",
      "weighted avg       0.99      0.99      0.99     16000\n",
      "\n"
     ]
    }
   ],
   "source": [
    "# Fit the data on the classifier\n",
    "knn = KNeighborsClassifier(n_neighbors=3)\n",
    "knn.fit(X_train, y_train)\n",
    "\n",
    "# Predict\n",
    "y_pred_knn = knn.predict(X_test)\n",
    "\n",
    "# Evaluate the performance\n",
    "print(classification_report(y_test, y_pred_knn))"
   ]
  },
  {
   "cell_type": "code",
   "execution_count": 6,
   "metadata": {},
   "outputs": [
    {
     "data": {
      "image/png": "[encoded data removed]",
      "text/plain": [
       "<Figure size 640x480 with 2 Axes>"
      ]
     },
     "metadata": {},
     "output_type": "display_data"
    }
   ],
   "source": [
    "# Calculate the confusion matrix\n",
    "def confmatrix(y_test, y_pred, title):\n",
    "\n",
    "    \"\"\"\n",
    "    Calculates and visualizes the confusion matrix for the given true and predicted labels.\n",
    "\n",
    "    \"\"\"\n",
    "    \n",
    "    cm = confusion_matrix(y_test, y_pred)\n",
    "\n",
    "    # Get unique class labels from y_test\n",
    "    classes = np.unique(y_test)\n",
    "\n",
    "    tn, fp, fn, tp = cm.ravel()\n",
    "\n",
    "\n",
    "    # Create a heatmap using seaborn\n",
    "    plt.style.use(\"dark_background\")\n",
    "    sns.heatmap(cm, annot=True, fmt=\"d\", cmap=\"rocket\", xticklabels=classes, yticklabels=classes)\n",
    "    plt.xlabel(\"Predicted\")\n",
    "    plt.ylabel(\"Actual\")\n",
    "    plt.title(title)\n",
    "    plt.show()\n",
    "\n",
    "    return tn, fp, fn, tp \n",
    "\n",
    "tn, fp, fn, tp = confmatrix(y_test, y_pred_knn, title = \"Confusion Matrix - KNN Classifier\")"
   ]
  },
  {
   "cell_type": "markdown",
   "metadata": {},
   "source": [
    "**Performance Analysis**\n",
    "\n",
    "- **Recall:** The recall for the minority class (1) is quite low (0.52), indicating that the model is missing many of the positive cases."
   ]
  },
  {
   "cell_type": "markdown",
   "metadata": {},
   "source": [
    "### 5.1.3 - Random Forest"
   ]
  },
  {
   "cell_type": "code",
   "execution_count": 39,
   "metadata": {},
   "outputs": [
    {
     "name": "stdout",
     "output_type": "stream",
     "text": [
      "              precision    recall  f1-score   support\n",
      "\n",
      "           0       0.99      1.00      1.00     15625\n",
      "           1       0.96      0.64      0.77       375\n",
      "\n",
      "    accuracy                           0.99     16000\n",
      "   macro avg       0.98      0.82      0.88     16000\n",
      "weighted avg       0.99      0.99      0.99     16000\n",
      "\n"
     ]
    }
   ],
   "source": [
    "# Fit the data on the classifier\n",
    "rf = RandomForestClassifier(random_state=42)\n",
    "rf.fit(X_train, y_train)\n",
    "\n",
    "# Predict\n",
    "y_pred_rf = rf.predict(X_test)\n",
    "\n",
    "# Evaluate the performance\n",
    "print(classification_report(y_test, y_pred_rf))"
   ]
  },
  {
   "cell_type": "code",
   "execution_count": 40,
   "metadata": {},
   "outputs": [
    {
     "data": {
      "image/png": "[encoded data removed]",
      "text/plain": [
       "<Figure size 640x480 with 2 Axes>"
      ]
     },
     "metadata": {},
     "output_type": "display_data"
    }
   ],
   "source": [
    "tn, fp, fn, tp = confmatrix(y_test, y_pred_rf, title = \"Confusion Matrix - RF Classifier\")"
   ]
  },
  {
   "cell_type": "markdown",
   "metadata": {},
   "source": [
    "**Performance Analysis**\n",
    "\n",
    "- **Recall:** The recall for the minority class (1) is quite low (0.64), indicating that the model is missing many of the positive cases.\n",
    "- **Accuracy:** Overall accuracy is high (0.99), but this can be misleading in cases of class imbalance."
   ]
  },
  {
   "cell_type": "markdown",
   "metadata": {},
   "source": [
    "This is a tipycal problem of a imbalanced dataset, the first solution is to address class imbalance and perform the feature selection:\n",
    "\n",
    "- **Resampling Techniques:**\n",
    "    - **Oversampling:** Use techniques like SMOTE (Synthetic Minority Over-sampling Technique) to generate synthetic samples for the minority class.\n",
    "    - **Undersampling:** Reduce the number of samples in the majority class to balance the class distribution.\n",
    "\n",
    "- **Dimensionality Reduction:** Reduce the number of training and test feature using PCA method.\n",
    "\n",
    "Before this, we also perform a basic HPO on the RF Classifier to visualize that a direct Model Centric approach will not be enough:"
   ]
  },
  {
   "cell_type": "markdown",
   "metadata": {},
   "source": [
    "### 5.1.4 - Hyperparameter Tunning\n",
    "\n",
    "Perform extensive hyperparameter tuning using techniques like Grid Search or Random Search to find the optimal settings for the models."
   ]
  },
  {
   "cell_type": "code",
   "execution_count": 28,
   "metadata": {},
   "outputs": [
    {
     "name": "stdout",
     "output_type": "stream",
     "text": [
      "Fitting 5 folds for each of 10 candidates, totalling 50 fits\n"
     ]
    },
    {
     "name": "stdout",
     "output_type": "stream",
     "text": [
      "[CV] END bootstrap=True, max_depth=29, min_samples_leaf=15, min_samples_split=12, n_estimators=91; total time=  48.1s\n",
      "[CV] END bootstrap=True, max_depth=29, min_samples_leaf=15, min_samples_split=12, n_estimators=91; total time=  48.1s\n",
      "[CV] END bootstrap=True, max_depth=29, min_samples_leaf=15, min_samples_split=12, n_estimators=91; total time=  49.4s\n",
      "[CV] END bootstrap=True, max_depth=29, min_samples_leaf=15, min_samples_split=12, n_estimators=91; total time=  49.6s\n",
      "[CV] END bootstrap=True, max_depth=29, min_samples_leaf=15, min_samples_split=12, n_estimators=91; total time=  50.3s\n",
      "[CV] END bootstrap=True, max_depth=21, min_samples_leaf=7, min_samples_split=12, n_estimators=107; total time=  58.6s\n",
      "[CV] END bootstrap=True, max_depth=21, min_samples_leaf=7, min_samples_split=12, n_estimators=107; total time=  58.5s\n",
      "[CV] END bootstrap=True, max_depth=21, min_samples_leaf=7, min_samples_split=12, n_estimators=107; total time= 1.0min\n",
      "[CV] END bootstrap=True, max_depth=2, min_samples_leaf=12, min_samples_split=7, n_estimators=149; total time=  11.0s\n",
      "[CV] END bootstrap=True, max_depth=2, min_samples_leaf=12, min_samples_split=7, n_estimators=149; total time=  10.4s\n",
      "[CV] END bootstrap=True, max_depth=2, min_samples_leaf=12, min_samples_split=7, n_estimators=149; total time=  11.0s\n",
      "[CV] END bootstrap=True, max_depth=2, min_samples_leaf=12, min_samples_split=7, n_estimators=149; total time=  11.4s\n",
      "[CV] END bootstrap=True, max_depth=21, min_samples_leaf=7, min_samples_split=12, n_estimators=107; total time= 1.0min\n",
      "[CV] END bootstrap=True, max_depth=21, min_samples_leaf=7, min_samples_split=12, n_estimators=107; total time= 1.0min\n",
      "[CV] END bootstrap=True, max_depth=2, min_samples_leaf=12, min_samples_split=7, n_estimators=149; total time=  11.1s\n",
      "[CV] END bootstrap=True, max_depth=36, min_samples_leaf=8, min_samples_split=4, n_estimators=169; total time= 1.6min\n",
      "[CV] END bootstrap=True, max_depth=36, min_samples_leaf=8, min_samples_split=4, n_estimators=169; total time= 1.7min\n",
      "[CV] END bootstrap=True, max_depth=36, min_samples_leaf=8, min_samples_split=4, n_estimators=169; total time= 1.7min\n",
      "[CV] END bootstrap=True, max_depth=36, min_samples_leaf=8, min_samples_split=4, n_estimators=169; total time= 1.7min\n",
      "[CV] END bootstrap=True, max_depth=36, min_samples_leaf=8, min_samples_split=4, n_estimators=169; total time= 1.7min\n",
      "[CV] END bootstrap=False, max_depth=21, min_samples_leaf=1, min_samples_split=13, n_estimators=77; total time= 1.2min\n",
      "[CV] END bootstrap=False, max_depth=25, min_samples_leaf=17, min_samples_split=11, n_estimators=34; total time=  33.4s\n",
      "[CV] END bootstrap=False, max_depth=21, min_samples_leaf=1, min_samples_split=13, n_estimators=77; total time= 1.3min\n",
      "[CV] END bootstrap=False, max_depth=21, min_samples_leaf=1, min_samples_split=13, n_estimators=77; total time= 1.2min\n",
      "[CV] END bootstrap=False, max_depth=25, min_samples_leaf=17, min_samples_split=11, n_estimators=34; total time=  33.0s\n",
      "[CV] END bootstrap=False, max_depth=3, min_samples_leaf=5, min_samples_split=8, n_estimators=40; total time=   6.0s\n",
      "[CV] END bootstrap=False, max_depth=25, min_samples_leaf=17, min_samples_split=11, n_estimators=34; total time=  34.7s\n",
      "[CV] END bootstrap=False, max_depth=3, min_samples_leaf=5, min_samples_split=8, n_estimators=40; total time=   6.2s\n",
      "[CV] END bootstrap=False, max_depth=3, min_samples_leaf=5, min_samples_split=8, n_estimators=40; total time=   6.0s\n",
      "[CV] END bootstrap=False, max_depth=3, min_samples_leaf=5, min_samples_split=8, n_estimators=40; total time=   5.9s\n",
      "[CV] END bootstrap=False, max_depth=3, min_samples_leaf=5, min_samples_split=8, n_estimators=40; total time=   6.1s\n",
      "[CV] END bootstrap=False, max_depth=25, min_samples_leaf=17, min_samples_split=11, n_estimators=34; total time=  33.1s\n",
      "[CV] END bootstrap=False, max_depth=25, min_samples_leaf=17, min_samples_split=11, n_estimators=34; total time=  34.6s\n",
      "[CV] END bootstrap=False, max_depth=21, min_samples_leaf=1, min_samples_split=13, n_estimators=77; total time= 1.3min\n",
      "[CV] END bootstrap=False, max_depth=21, min_samples_leaf=1, min_samples_split=13, n_estimators=77; total time= 1.3min\n",
      "[CV] END bootstrap=True, max_depth=39, min_samples_leaf=18, min_samples_split=5, n_estimators=108; total time=  59.4s\n",
      "[CV] END bootstrap=True, max_depth=39, min_samples_leaf=18, min_samples_split=5, n_estimators=108; total time=  57.3s\n",
      "[CV] END bootstrap=True, max_depth=39, min_samples_leaf=18, min_samples_split=5, n_estimators=108; total time= 1.0min\n",
      "[CV] END bootstrap=True, max_depth=39, min_samples_leaf=18, min_samples_split=5, n_estimators=108; total time= 1.0min\n",
      "[CV] END bootstrap=True, max_depth=2, min_samples_leaf=15, min_samples_split=8, n_estimators=191; total time=  13.4s\n",
      "[CV] END bootstrap=True, max_depth=2, min_samples_leaf=15, min_samples_split=8, n_estimators=191; total time=  13.6s\n",
      "[CV] END bootstrap=True, max_depth=39, min_samples_leaf=18, min_samples_split=5, n_estimators=108; total time= 1.0min\n",
      "[CV] END bootstrap=True, max_depth=2, min_samples_leaf=15, min_samples_split=8, n_estimators=191; total time=  13.4s\n",
      "[CV] END bootstrap=True, max_depth=2, min_samples_leaf=15, min_samples_split=8, n_estimators=191; total time=  13.4s\n",
      "[CV] END bootstrap=True, max_depth=2, min_samples_leaf=15, min_samples_split=8, n_estimators=191; total time=  13.0s\n",
      "[CV] END bootstrap=False, max_depth=14, min_samples_leaf=18, min_samples_split=10, n_estimators=109; total time= 1.2min\n",
      "[CV] END bootstrap=False, max_depth=14, min_samples_leaf=18, min_samples_split=10, n_estimators=109; total time= 1.2min\n",
      "[CV] END bootstrap=False, max_depth=14, min_samples_leaf=18, min_samples_split=10, n_estimators=109; total time= 1.2min\n",
      "[CV] END bootstrap=False, max_depth=14, min_samples_leaf=18, min_samples_split=10, n_estimators=109; total time=  59.8s\n",
      "[CV] END bootstrap=False, max_depth=14, min_samples_leaf=18, min_samples_split=10, n_estimators=109; total time=  59.1s\n",
      "Best hyperparameters: {'bootstrap': False, 'max_depth': 21, 'min_samples_leaf': 1, 'min_samples_split': 13, 'n_estimators': 77}\n"
     ]
    }
   ],
   "source": [
    "# Define parameter distribution for RandomizedSearchCV\n",
    "param_dist = {\n",
    "    'n_estimators': randint(20, 200),       # Number of trees in the forest\n",
    "    'max_depth': randint(1, 40),            # Maximum depth of each tree\n",
    "    'min_samples_split': randint(2, 20),    # Minimum number of samples required to split an internal node\n",
    "    'min_samples_leaf': randint(1, 20),     # Minimum number of samples required to be at a leaf node\n",
    "    'bootstrap': [True, False]              # Whether bootstrap samples are used when building trees\n",
    "}\n",
    "\n",
    "# Initialize RandomForestClassifier\n",
    "rf = RandomForestClassifier()\n",
    "\n",
    "# Set up RandomizedSearchCV\n",
    "rand_search = RandomizedSearchCV(\n",
    "    rf,\n",
    "    param_distributions=param_dist,\n",
    "    n_iter=10,                       # Number of different combinations to try\n",
    "    cv=5,                           # Number of cross-validation folds\n",
    "    verbose=2,                      # Verbosity level\n",
    "    random_state=42,                # For reproducibility\n",
    "    n_jobs=-1                       # Use all available cores\n",
    ")\n",
    "\n",
    "# Fit RandomizedSearchCV to the training data\n",
    "rand_search.fit(X_train, y_train)\n",
    "best_rf = rand_search.best_estimator_\n",
    "\n",
    "# Print the best hyperparameters\n",
    "print('Best hyperparameters:', rand_search.best_params_)\n"
   ]
  },
  {
   "cell_type": "code",
   "execution_count": null,
   "metadata": {},
   "outputs": [
    {
     "name": "stdout",
     "output_type": "stream",
     "text": [
      "              precision    recall  f1-score   support\n",
      "\n",
      "           0       0.99      1.00      0.99     15625\n",
      "           1       0.92      0.62      0.75       375\n",
      "\n",
      "    accuracy                           0.99     16000\n",
      "   macro avg       0.96      0.81      0.87     16000\n",
      "weighted avg       0.99      0.99      0.99     16000\n",
      "\n"
     ]
    }
   ],
   "source": [
    "# Generate predictions with the best model\n",
    "y_pred_best_rf = best_rf.predict(X_test)\n",
    "print(classification_report(y_test, y_pred_best_rf))"
   ]
  },
  {
   "cell_type": "code",
   "execution_count": null,
   "metadata": {},
   "outputs": [
    {
     "data": {
      "image/png": "[encoded data removed]",
      "text/plain": [
       "<Figure size 640x480 with 2 Axes>"
      ]
     },
     "metadata": {},
     "output_type": "display_data"
    }
   ],
   "source": [
    "tn, fp, fn, tp = confmatrix(y_test, y_pred_best_rf, title = \"Confusion Matrix - Best RF Classifier\")"
   ]
  },
  {
   "cell_type": "markdown",
   "metadata": {},
   "source": [
    "Note that even with the use of hyperparameter optimization (HPO) techniques, the model still shows poor performance with the current quality of the dataset.\n",
    "\n",
    "Based on this, we will now adopt a data-centric approach."
   ]
  },
  {
   "cell_type": "markdown",
   "metadata": {},
   "source": [
    "## 5.2 - Data Centric Approach\n",
    "\n",
    "Now, in the second part of this notebook, we will apply the models after performing some data-centric analyses, such as addressing class imbalance and performing dimensionality reduction.\n",
    "\n",
    "The goal here is to identify the impact of data transformation on the ML models and establish a clear path to optimize the results.\n",
    "\n",
    "Here, we will apply only the Random Forest models since was the top performing before."
   ]
  },
  {
   "cell_type": "markdown",
   "metadata": {},
   "source": [
    "### 5.2.1 - Impact of the SMOTE Technique:"
   ]
  },
  {
   "cell_type": "code",
   "execution_count": 99,
   "metadata": {},
   "outputs": [
    {
     "name": "stdout",
     "output_type": "stream",
     "text": [
      "Training features shape after SMOTE: (118000, 170)\n",
      "Training features shape after SMOTE: (118000,)\n",
      "Test features shape: (16000, 170)\n",
      "Test target shape: (16000,)\n"
     ]
    }
   ],
   "source": [
    "previous_SMOTEd = pd.read_csv('../data/07_previous_years_SMOTEd.csv')\n",
    "present_data = pd.read_csv('../data/06_present_year_scaled.csv')\n",
    "\n",
    "# Separate target and features for training data\n",
    "y_train_SMOTEd = previous_SMOTEd['class']\n",
    "X_train_SMOTEd = previous_SMOTEd.drop('class', axis=1)\n",
    "\n",
    "# Separate target and features for test data\n",
    "y_test = present_data['class']\n",
    "X_test = present_data.drop('class', axis=1)\n",
    "\n",
    "print(\"Training features shape after SMOTE:\", X_train_SMOTEd.shape)\n",
    "print(\"Training features shape after SMOTE:\", y_train_SMOTEd.shape)\n",
    "print(\"Test features shape:\", X_test.shape)\n",
    "print(\"Test target shape:\", y_test.shape)"
   ]
  },
  {
   "cell_type": "code",
   "execution_count": 100,
   "metadata": {},
   "outputs": [
    {
     "name": "stdout",
     "output_type": "stream",
     "text": [
      "              precision    recall  f1-score   support\n",
      "\n",
      "           0       1.00      0.99      0.99     15625\n",
      "           1       0.61      0.86      0.71       375\n",
      "\n",
      "    accuracy                           0.98     16000\n",
      "   macro avg       0.80      0.92      0.85     16000\n",
      "weighted avg       0.99      0.98      0.99     16000\n",
      "\n"
     ]
    }
   ],
   "source": [
    "# Fit the data on the classifier\n",
    "rf = RandomForestClassifier(random_state=42)\n",
    "rf.fit(X_train_SMOTEd, y_train_SMOTEd)\n",
    "\n",
    "# Predict\n",
    "y_pred_SMOTEd_rf = rf.predict(X_test)\n",
    "\n",
    "# Evaluate the performance\n",
    "print(classification_report(y_test, y_pred_SMOTEd_rf))"
   ]
  },
  {
   "cell_type": "code",
   "execution_count": 101,
   "metadata": {},
   "outputs": [
    {
     "data": {
      "image/png": "[encoded data removed]",
      "text/plain": [
       "<Figure size 640x480 with 2 Axes>"
      ]
     },
     "metadata": {},
     "output_type": "display_data"
    }
   ],
   "source": [
    "tn, fp, fn, tp = confmatrix(y_test, y_pred_SMOTEd_rf, title = \"Confusion Matrix - RF Classifier - SMOTEd\")"
   ]
  },
  {
   "cell_type": "markdown",
   "metadata": {},
   "source": [
    "**Finantial impact of this model:**"
   ]
  },
  {
   "cell_type": "code",
   "execution_count": 102,
   "metadata": {},
   "outputs": [
    {
     "name": "stdout",
     "output_type": "stream",
     "text": [
      "This would generate a cost reduction of: $380 USD \n"
     ]
    }
   ],
   "source": [
    "cost_SMOTEd = int(fn)*500 + int(fp)*10 + int(tp)*25\n",
    "print(f\"This would generate a cost reduction of: ${37000 - cost_SMOTEd} USD \")"
   ]
  },
  {
   "cell_type": "markdown",
   "metadata": {},
   "source": [
    "### 5.2.2 - Impact of the SMOTE and PCA Technique:"
   ]
  },
  {
   "cell_type": "code",
   "execution_count": 103,
   "metadata": {},
   "outputs": [
    {
     "name": "stdout",
     "output_type": "stream",
     "text": [
      "Training features shape after SMOTE and PCA: (118000, 2)\n",
      "Training features shape after SMOTE and PCA (118000,)\n",
      "Test features shape after PCA: (16000, 2)\n",
      "Test target shape after PCA: (16000,)\n"
     ]
    }
   ],
   "source": [
    "previous_PCA = pd.read_csv('../data/08_previous_years_PCA.csv')\n",
    "present_PCA = pd.read_csv('../data/09_previous_years_PCA.csv')\n",
    "\n",
    "# Separate target and features for training data\n",
    "y_train_PCA = previous_PCA['class']\n",
    "X_train_PCA = previous_PCA.drop('class', axis=1)\n",
    "\n",
    "# Separate target and features for test data\n",
    "y_test_PCA = present_PCA['class']\n",
    "X_test_PCA = present_PCA.drop('class', axis=1)\n",
    "\n",
    "print(\"Training features shape after SMOTE and PCA:\", X_train_PCA.shape)\n",
    "print(\"Training features shape after SMOTE and PCA\", y_train_PCA.shape)\n",
    "print(\"Test features shape after PCA:\", X_test_PCA.shape)\n",
    "print(\"Test target shape after PCA:\", y_test_PCA.shape)\n"
   ]
  },
  {
   "cell_type": "code",
   "execution_count": 104,
   "metadata": {},
   "outputs": [
    {
     "name": "stdout",
     "output_type": "stream",
     "text": [
      "              precision    recall  f1-score   support\n",
      "\n",
      "           0       1.00      0.94      0.97     15625\n",
      "           1       0.27      0.90      0.41       375\n",
      "\n",
      "    accuracy                           0.94     16000\n",
      "   macro avg       0.63      0.92      0.69     16000\n",
      "weighted avg       0.98      0.94      0.96     16000\n",
      "\n"
     ]
    }
   ],
   "source": [
    "# Fit the data on the classifier\n",
    "rf = RandomForestClassifier(random_state=42)\n",
    "rf.fit(X_train_PCA, y_train_PCA)\n",
    "\n",
    "# Predict\n",
    "y_pred_PCA_rf = rf.predict(X_test_PCA)\n",
    "\n",
    "# Evaluate the performance\n",
    "print(classification_report(y_test_PCA, y_pred_PCA_rf))"
   ]
  },
  {
   "cell_type": "code",
   "execution_count": 105,
   "metadata": {},
   "outputs": [
    {
     "data": {
      "image/png": "[encoded data removed]",
      "text/plain": [
       "<Figure size 640x480 with 2 Axes>"
      ]
     },
     "metadata": {},
     "output_type": "display_data"
    }
   ],
   "source": [
    "tn, fp, fn, tp = confmatrix(y_test_PCA, y_pred_PCA_rf, title = \"Confusion Matrix - RF Classifier - PCA & SMOTEd\")"
   ]
  },
  {
   "cell_type": "markdown",
   "metadata": {},
   "source": [
    "**Finantial impact of this model:**"
   ]
  },
  {
   "cell_type": "code",
   "execution_count": 107,
   "metadata": {},
   "outputs": [
    {
     "name": "stdout",
     "output_type": "stream",
     "text": [
      "This would generate a cost reduction of: $840 USD \n"
     ]
    }
   ],
   "source": [
    "cost_PCA_SMOTEd = int(fn)*500 + int(fp)*10 + int(tp)*25\n",
    "print(f\"This would generate a cost reduction of: ${37000 - cost_PCA_SMOTEd} USD \")"
   ]
  },
  {
   "cell_type": "markdown",
   "metadata": {},
   "source": [
    "### 5.2.3 - Impact of the HPO & SMOTE Techniques:"
   ]
  },
  {
   "cell_type": "code",
   "execution_count": 77,
   "metadata": {},
   "outputs": [
    {
     "name": "stdout",
     "output_type": "stream",
     "text": [
      "Fitting 5 folds for each of 10 candidates, totalling 50 fits\n",
      "[CV] END bootstrap=True, max_depth=29, min_samples_leaf=15, min_samples_split=12, n_estimators=91; total time= 1.9min\n",
      "[CV] END bootstrap=True, max_depth=29, min_samples_leaf=15, min_samples_split=12, n_estimators=91; total time= 1.9min\n",
      "[CV] END bootstrap=True, max_depth=29, min_samples_leaf=15, min_samples_split=12, n_estimators=91; total time= 1.9min\n",
      "[CV] END bootstrap=True, max_depth=29, min_samples_leaf=15, min_samples_split=12, n_estimators=91; total time= 1.9min\n",
      "[CV] END bootstrap=True, max_depth=29, min_samples_leaf=15, min_samples_split=12, n_estimators=91; total time= 1.9min\n",
      "[CV] END bootstrap=True, max_depth=21, min_samples_leaf=7, min_samples_split=12, n_estimators=107; total time= 2.2min\n",
      "[CV] END bootstrap=True, max_depth=21, min_samples_leaf=7, min_samples_split=12, n_estimators=107; total time= 2.2min\n",
      "[CV] END bootstrap=True, max_depth=21, min_samples_leaf=7, min_samples_split=12, n_estimators=107; total time= 2.3min\n",
      "[CV] END bootstrap=True, max_depth=2, min_samples_leaf=12, min_samples_split=7, n_estimators=149; total time=  29.2s\n",
      "[CV] END bootstrap=True, max_depth=2, min_samples_leaf=12, min_samples_split=7, n_estimators=149; total time=  25.9s\n",
      "[CV] END bootstrap=True, max_depth=2, min_samples_leaf=12, min_samples_split=7, n_estimators=149; total time=  30.5s\n",
      "[CV] END bootstrap=True, max_depth=21, min_samples_leaf=7, min_samples_split=12, n_estimators=107; total time= 2.3min\n",
      "[CV] END bootstrap=True, max_depth=21, min_samples_leaf=7, min_samples_split=12, n_estimators=107; total time= 2.3min\n",
      "[CV] END bootstrap=True, max_depth=2, min_samples_leaf=12, min_samples_split=7, n_estimators=149; total time=  28.9s\n",
      "[CV] END bootstrap=True, max_depth=2, min_samples_leaf=12, min_samples_split=7, n_estimators=149; total time=  28.0s\n",
      "[CV] END bootstrap=True, max_depth=36, min_samples_leaf=8, min_samples_split=4, n_estimators=169; total time= 3.8min\n",
      "[CV] END bootstrap=True, max_depth=36, min_samples_leaf=8, min_samples_split=4, n_estimators=169; total time= 3.8min\n",
      "[CV] END bootstrap=True, max_depth=36, min_samples_leaf=8, min_samples_split=4, n_estimators=169; total time= 3.8min\n",
      "[CV] END bootstrap=True, max_depth=36, min_samples_leaf=8, min_samples_split=4, n_estimators=169; total time= 3.8min\n",
      "[CV] END bootstrap=True, max_depth=36, min_samples_leaf=8, min_samples_split=4, n_estimators=169; total time= 3.9min\n",
      "[CV] END bootstrap=False, max_depth=25, min_samples_leaf=17, min_samples_split=11, n_estimators=34; total time= 1.2min\n",
      "[CV] END bootstrap=False, max_depth=21, min_samples_leaf=1, min_samples_split=13, n_estimators=77; total time= 2.8min\n",
      "[CV] END bootstrap=False, max_depth=21, min_samples_leaf=1, min_samples_split=13, n_estimators=77; total time= 2.8min\n",
      "[CV] END bootstrap=False, max_depth=25, min_samples_leaf=17, min_samples_split=11, n_estimators=34; total time= 1.2min\n",
      "[CV] END bootstrap=False, max_depth=25, min_samples_leaf=17, min_samples_split=11, n_estimators=34; total time= 1.1min\n",
      "[CV] END bootstrap=False, max_depth=3, min_samples_leaf=5, min_samples_split=8, n_estimators=40; total time=  17.5s\n",
      "[CV] END bootstrap=False, max_depth=21, min_samples_leaf=1, min_samples_split=13, n_estimators=77; total time= 2.8min\n",
      "[CV] END bootstrap=False, max_depth=3, min_samples_leaf=5, min_samples_split=8, n_estimators=40; total time=  18.1s\n",
      "[CV] END bootstrap=False, max_depth=3, min_samples_leaf=5, min_samples_split=8, n_estimators=40; total time=  18.6s\n",
      "[CV] END bootstrap=False, max_depth=3, min_samples_leaf=5, min_samples_split=8, n_estimators=40; total time=  18.1s\n",
      "[CV] END bootstrap=False, max_depth=3, min_samples_leaf=5, min_samples_split=8, n_estimators=40; total time=  19.1s\n",
      "[CV] END bootstrap=False, max_depth=25, min_samples_leaf=17, min_samples_split=11, n_estimators=34; total time= 1.2min\n",
      "[CV] END bootstrap=False, max_depth=25, min_samples_leaf=17, min_samples_split=11, n_estimators=34; total time= 1.2min\n",
      "[CV] END bootstrap=False, max_depth=21, min_samples_leaf=1, min_samples_split=13, n_estimators=77; total time= 2.9min\n",
      "[CV] END bootstrap=False, max_depth=21, min_samples_leaf=1, min_samples_split=13, n_estimators=77; total time= 2.9min\n",
      "[CV] END bootstrap=True, max_depth=39, min_samples_leaf=18, min_samples_split=5, n_estimators=108; total time= 2.3min\n",
      "[CV] END bootstrap=True, max_depth=39, min_samples_leaf=18, min_samples_split=5, n_estimators=108; total time= 2.3min\n",
      "[CV] END bootstrap=True, max_depth=39, min_samples_leaf=18, min_samples_split=5, n_estimators=108; total time= 2.3min\n",
      "[CV] END bootstrap=True, max_depth=39, min_samples_leaf=18, min_samples_split=5, n_estimators=108; total time= 2.2min\n",
      "[CV] END bootstrap=True, max_depth=39, min_samples_leaf=18, min_samples_split=5, n_estimators=108; total time= 2.2min\n",
      "[CV] END bootstrap=True, max_depth=2, min_samples_leaf=15, min_samples_split=8, n_estimators=191; total time=  37.1s\n",
      "[CV] END bootstrap=True, max_depth=2, min_samples_leaf=15, min_samples_split=8, n_estimators=191; total time=  36.3s\n",
      "[CV] END bootstrap=True, max_depth=2, min_samples_leaf=15, min_samples_split=8, n_estimators=191; total time=  36.3s\n",
      "[CV] END bootstrap=True, max_depth=2, min_samples_leaf=15, min_samples_split=8, n_estimators=191; total time=  36.2s\n",
      "[CV] END bootstrap=False, max_depth=14, min_samples_leaf=18, min_samples_split=10, n_estimators=109; total time= 3.0min\n",
      "[CV] END bootstrap=True, max_depth=2, min_samples_leaf=15, min_samples_split=8, n_estimators=191; total time=  34.7s\n",
      "[CV] END bootstrap=False, max_depth=14, min_samples_leaf=18, min_samples_split=10, n_estimators=109; total time= 2.8min\n",
      "[CV] END bootstrap=False, max_depth=14, min_samples_leaf=18, min_samples_split=10, n_estimators=109; total time= 2.9min\n",
      "[CV] END bootstrap=False, max_depth=14, min_samples_leaf=18, min_samples_split=10, n_estimators=109; total time= 2.4min\n",
      "[CV] END bootstrap=False, max_depth=14, min_samples_leaf=18, min_samples_split=10, n_estimators=109; total time= 2.4min\n",
      "Best hyperparameters: {'bootstrap': False, 'max_depth': 21, 'min_samples_leaf': 1, 'min_samples_split': 13, 'n_estimators': 77}\n"
     ]
    }
   ],
   "source": [
    "# Define parameter distribution for RandomizedSearchCV\n",
    "param_dist = {\n",
    "    'n_estimators': randint(20, 200),       # Number of trees in the forest\n",
    "    'max_depth': randint(1, 40),            # Maximum depth of each tree\n",
    "    'min_samples_split': randint(2, 20),    # Minimum number of samples required to split an internal node\n",
    "    'min_samples_leaf': randint(1, 20),     # Minimum number of samples required to be at a leaf node\n",
    "    'bootstrap': [True, False]              # Whether bootstrap samples are used when building trees\n",
    "}\n",
    "\n",
    "# Initialize RandomForestClassifier\n",
    "rf = RandomForestClassifier()\n",
    "\n",
    "# Set up RandomizedSearchCV\n",
    "rand_search = RandomizedSearchCV(\n",
    "    rf,\n",
    "    param_distributions=param_dist,\n",
    "    n_iter=10,                       # Number of different combinations to try\n",
    "    cv=5,                           # Number of cross-validation folds\n",
    "    verbose=2,                      # Verbosity level\n",
    "    random_state=42,                # For reproducibility\n",
    "    n_jobs=-1                       # Use all available cores\n",
    ")\n",
    "\n",
    "# Fit RandomizedSearchCV to the training data\n",
    "rand_search.fit(X_train_SMOTEd, y_train_SMOTEd)\n",
    "best_rf_SMOTEd = rand_search.best_estimator_\n",
    "\n",
    "# Print the best hyperparameters\n",
    "print('Best hyperparameters:', rand_search.best_params_)"
   ]
  },
  {
   "cell_type": "code",
   "execution_count": 108,
   "metadata": {},
   "outputs": [
    {
     "name": "stdout",
     "output_type": "stream",
     "text": [
      "              precision    recall  f1-score   support\n",
      "\n",
      "           0       1.00      0.98      0.99     15625\n",
      "           1       0.58      0.89      0.71       375\n",
      "\n",
      "    accuracy                           0.98     16000\n",
      "   macro avg       0.79      0.94      0.85     16000\n",
      "weighted avg       0.99      0.98      0.98     16000\n",
      "\n"
     ]
    }
   ],
   "source": [
    "# Generate predictions with the best model\n",
    "y_pred_best_rf_SMOTEd = best_rf_SMOTEd.predict(X_test)\n",
    "print(classification_report(y_test, y_pred_best_rf_SMOTEd))"
   ]
  },
  {
   "cell_type": "code",
   "execution_count": 109,
   "metadata": {},
   "outputs": [
    {
     "data": {
      "image/png": "[encoded data removed]",
      "text/plain": [
       "<Figure size 640x480 with 2 Axes>"
      ]
     },
     "metadata": {},
     "output_type": "display_data"
    }
   ],
   "source": [
    "tn, fp, fn, tp = confmatrix(y_test, y_pred_best_rf_SMOTEd, title = \"Confusion Matrix - RF Classifier - HPO & SMOTEd\")"
   ]
  },
  {
   "cell_type": "markdown",
   "metadata": {},
   "source": [
    "**Finantial impact of this model:**"
   ]
  },
  {
   "cell_type": "code",
   "execution_count": null,
   "metadata": {},
   "outputs": [
    {
     "name": "stdout",
     "output_type": "stream",
     "text": [
      "This model would generate a cost reduction of USD $5770\n"
     ]
    }
   ],
   "source": [
    "cost_HPO_SMOTEd = int(fn)*500 + int(fp)*10 + int(tp)*25\n",
    "print(f\"This model would generate a cost reduction of USD ${37000 - cost_HPO_SMOTEd}\")"
   ]
  },
  {
   "cell_type": "markdown",
   "metadata": {},
   "source": [
    "This address the question:\n",
    "\n",
    "> Can we reduce our expenses with this type of maintenance using AI techniques?\n",
    "\n",
    "**ANSWER:** Yes, we can! In a basic proof of concepto we already achieved $5770 on savings."
   ]
  },
  {
   "cell_type": "markdown",
   "metadata": {},
   "source": [
    "### Model Selection Conclusion:\n",
    "\n",
    "The Random Forest model with hyperparameter optimization (HPO) using random search and SMOTE achieved the best performance, with a precision of `0.58` and recall of `0.89`, which leads to a Macro F1-Score of `0.85`.\n",
    "\n",
    "When we translate this to business metrics, this results represents a cost reduction of `$5770` in the maintenance of the trucks.\n",
    "\n",
    "So, the selected model would be the **HPO SMOTEd RandomForest**!"
   ]
  },
  {
   "cell_type": "markdown",
   "metadata": {},
   "source": [
    "## 5.3 - Feature Importance From the Selected Model\n",
    "\n",
    "Based on the Random Forest Classifier trained above, we will identify the most important features of the dataset that contribute to predicting failures."
   ]
  },
  {
   "cell_type": "markdown",
   "metadata": {},
   "source": [
    "- **Top 10 features for failure in the trucks**"
   ]
  },
  {
   "cell_type": "code",
   "execution_count": null,
   "metadata": {},
   "outputs": [
    {
     "data": {
      "text/html": [
       "<div>\n",
       "<style scoped>\n",
       "    .dataframe tbody tr th:only-of-type {\n",
       "        vertical-align: middle;\n",
       "    }\n",
       "\n",
       "    .dataframe tbody tr th {\n",
       "        vertical-align: top;\n",
       "    }\n",
       "\n",
       "    .dataframe thead th {\n",
       "        text-align: right;\n",
       "    }\n",
       "</style>\n",
       "<table border=\"1\" class=\"dataframe\">\n",
       "  <thead>\n",
       "    <tr style=\"text-align: right;\">\n",
       "      <th></th>\n",
       "      <th>feature</th>\n",
       "      <th>importance</th>\n",
       "    </tr>\n",
       "  </thead>\n",
       "  <tbody>\n",
       "    <tr>\n",
       "      <th>96</th>\n",
       "      <td>ck_000</td>\n",
       "      <td>0.105955</td>\n",
       "    </tr>\n",
       "    <tr>\n",
       "      <th>142</th>\n",
       "      <td>dn_000</td>\n",
       "      <td>0.069442</td>\n",
       "    </tr>\n",
       "    <tr>\n",
       "      <th>0</th>\n",
       "      <td>aa_000</td>\n",
       "      <td>0.061423</td>\n",
       "    </tr>\n",
       "    <tr>\n",
       "      <th>80</th>\n",
       "      <td>bt_000</td>\n",
       "      <td>0.053556</td>\n",
       "    </tr>\n",
       "    <tr>\n",
       "      <th>24</th>\n",
       "      <td>ap_000</td>\n",
       "      <td>0.052723</td>\n",
       "    </tr>\n",
       "    <tr>\n",
       "      <th>82</th>\n",
       "      <td>bv_000</td>\n",
       "      <td>0.039032</td>\n",
       "    </tr>\n",
       "    <tr>\n",
       "      <th>62</th>\n",
       "      <td>bb_000</td>\n",
       "      <td>0.038195</td>\n",
       "    </tr>\n",
       "    <tr>\n",
       "      <th>94</th>\n",
       "      <td>ci_000</td>\n",
       "      <td>0.034631</td>\n",
       "    </tr>\n",
       "    <tr>\n",
       "      <th>25</th>\n",
       "      <td>aq_000</td>\n",
       "      <td>0.031949</td>\n",
       "    </tr>\n",
       "    <tr>\n",
       "      <th>17</th>\n",
       "      <td>ai_000</td>\n",
       "      <td>0.026753</td>\n",
       "    </tr>\n",
       "  </tbody>\n",
       "</table>\n",
       "</div>"
      ],
      "text/plain": [
       "    feature  importance\n",
       "96   ck_000    0.105955\n",
       "142  dn_000    0.069442\n",
       "0    aa_000    0.061423\n",
       "80   bt_000    0.053556\n",
       "24   ap_000    0.052723\n",
       "82   bv_000    0.039032\n",
       "62   bb_000    0.038195\n",
       "94   ci_000    0.034631\n",
       "25   aq_000    0.031949\n",
       "17   ai_000    0.026753"
      ]
     },
     "execution_count": 123,
     "metadata": {},
     "output_type": "execute_result"
    }
   ],
   "source": [
    "# Extract feature importances from the best Random Forest model\n",
    "importances = best_rf_SMOTEd.feature_importances_\n",
    "\n",
    "# Create and # sort the DataFrame by importance in descending order\n",
    "feature_importances = pd.DataFrame({'feature': X_train_SMOTEd.columns, 'importance': importances})\n",
    "feature_importances = feature_importances.sort_values(by='importance', ascending=False).head(10)\n",
    "feature_importances"
   ]
  },
  {
   "cell_type": "markdown",
   "metadata": {},
   "source": [
    "This is directly related to the business question: \n",
    "\n",
    ">\"Can you present the main factors that indicate a possible failure in this system?\"*\n",
    "\n",
    "**ANSWER:** Yes, I can! Above are the top 10 most relevant features for failures in the air system according to the top-performing machine learning model."
   ]
  }
 ],
 "metadata": {
  "kernelspec": {
   "display_name": "bixtest",
   "language": "python",
   "name": "python3"
  },
  "language_info": {
   "codemirror_mode": {
    "name": "ipython",
    "version": 3
   },
   "file_extension": ".py",
   "mimetype": "text/x-python",
   "name": "python",
   "nbconvert_exporter": "python",
   "pygments_lexer": "ipython3",
   "version": "3.9.19"
  }
 },
 "nbformat": 4,
 "nbformat_minor": 2
}
