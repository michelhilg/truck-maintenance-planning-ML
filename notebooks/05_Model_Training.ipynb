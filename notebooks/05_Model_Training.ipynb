{
 "cells": [
  {
   "cell_type": "markdown",
   "metadata": {},
   "source": [
    "# Step 5 - Model Training\n",
    "\n",
    "Split the data into training and test sets, ensuring the test set reflects the present year's data.\n",
    "\n",
    "Train multiple predictive models on the original dataset, without applying PCA or SMOTE techniques initially. \n",
    "\n",
    "The models to be trained include:\n",
    "- K-Nearest Neighbors (KNN) Classifier\n",
    "- Random Forest"
   ]
  },
  {
   "cell_type": "code",
   "execution_count": 2,
   "metadata": {},
   "outputs": [],
   "source": [
    "import pandas as pd"
   ]
  },
  {
   "cell_type": "markdown",
   "metadata": {},
   "source": [
    "## 5.0 - Load the Data"
   ]
  },
  {
   "cell_type": "code",
   "execution_count": 3,
   "metadata": {},
   "outputs": [],
   "source": [
    "previous_scaled = pd.read_csv('../data/05_previous_years_scaled.csv')\n",
    "present_scaled = pd.read_csv('../data/06_present_year_scaled.csv')"
   ]
  },
  {
   "cell_type": "markdown",
   "metadata": {},
   "source": [
    "# 5.1 - Model Centric Approach\n",
    "\n",
    "Apply the ML models without use any PCA or SMOTE technique at first."
   ]
  },
  {
   "cell_type": "markdown",
   "metadata": {},
   "source": [
    "## 5.1 - Train and Test Split"
   ]
  },
  {
   "cell_type": "markdown",
   "metadata": {},
   "source": [
    "Since we have the instruction fir the executive board that \n",
    "\n",
    "> The final results that will be presented need to be evaluated against air_system_present_year.csv. \n",
    "\n",
    "The *train* and *test* split is easily defined as:\n",
    "\n",
    "- **Training Data:** We will use the `air_system_previous_years.csv` to train the machine learning models.\n",
    "\n",
    "- **Testing Data:** We will evaluate the trained models using `air_system_present_year.csv`."
   ]
  },
  {
   "cell_type": "code",
   "execution_count": 6,
   "metadata": {},
   "outputs": [
    {
     "name": "stdout",
     "output_type": "stream",
     "text": [
      "Training features shape: (60000, 170)\n",
      "Training target shape: (60000,)\n",
      "Test features shape: (16000, 170)\n",
      "Test target shape: (16000,)\n"
     ]
    }
   ],
   "source": [
    "# Separate target and features for training data\n",
    "y_train = previous_scaled['class']\n",
    "X_train = previous_scaled.drop('class', axis=1)\n",
    "\n",
    "# Separate target and features for test data\n",
    "y_test = present_scaled['class']\n",
    "X_test = present_scaled.drop('class', axis=1)\n",
    "\n",
    "print(\"Training features shape:\", X_train.shape)\n",
    "print(\"Training target shape:\", y_train.shape)\n",
    "print(\"Test features shape:\", X_test.shape)\n",
    "print(\"Test target shape:\", y_test.shape)"
   ]
  },
  {
   "cell_type": "code",
   "execution_count": null,
   "metadata": {},
   "outputs": [],
   "source": []
  }
 ],
 "metadata": {
  "kernelspec": {
   "display_name": "bixtest",
   "language": "python",
   "name": "python3"
  },
  "language_info": {
   "codemirror_mode": {
    "name": "ipython",
    "version": 3
   },
   "file_extension": ".py",
   "mimetype": "text/x-python",
   "name": "python",
   "nbconvert_exporter": "python",
   "pygments_lexer": "ipython3",
   "version": "3.9.19"
  }
 },
 "nbformat": 4,
 "nbformat_minor": 2
}
